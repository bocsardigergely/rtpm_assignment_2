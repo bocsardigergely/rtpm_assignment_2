{
 "cells": [
  {
   "cell_type": "code",
   "execution_count": 8,
   "metadata": {},
   "outputs": [],
   "source": [
    "import pandas as pd\n"
   ]
  },
  {
   "cell_type": "code",
   "execution_count": 9,
   "metadata": {},
   "outputs": [],
   "source": [
    "def feature_engineering(df_train):\n",
    "    df_train['first_timestamp'] = pd.to_datetime(df_train['first_timestamp'])\n",
    "\n",
    "    # day\n",
    "    df_train['Day'] = df_train['first_timestamp'].dt.day\n",
    "    # month\n",
    "    df_train['Month'] = df_train['first_timestamp'].dt.month\n",
    "    # hour\n",
    "    df_train['Start_hour'] = df_train['first_timestamp'].dt.hour\n",
    "    # minute\n",
    "    df_train['Start_minute'] = df_train['first_timestamp'].dt.minute\n",
    "    # second\n",
    "    df_train['Start_second'] = df_train['first_timestamp'].dt.second\n",
    "    # Monday is 0 and Sunday is 6\n",
    "    df_train['Start_weekday'] = df_train['first_timestamp'].dt.weekday\n",
    "    # week of the year\n",
    "    df_train['Start_week_of_year'] = df_train['first_timestamp'].dt.week\n",
    "\n",
    "    df_train.drop('first_timestamp', inplace=True, axis=1)\n",
    "\n",
    "    return df_train"
   ]
  },
  {
   "cell_type": "code",
   "execution_count": 10,
   "metadata": {},
   "outputs": [
    {
     "name": "stderr",
     "output_type": "stream",
     "text": [
      "/var/folders/9l/kwd1671542z9tyvsgbp6mmtr0000gn/T/ipykernel_9955/1275838501.py:17: FutureWarning: Series.dt.weekofyear and Series.dt.week have been deprecated. Please use Series.dt.isocalendar().week instead.\n",
      "  df_train['Start_week_of_year'] = df_train['first_timestamp'].dt.week\n",
      "/var/folders/9l/kwd1671542z9tyvsgbp6mmtr0000gn/T/ipykernel_9955/1275838501.py:17: FutureWarning: Series.dt.weekofyear and Series.dt.week have been deprecated. Please use Series.dt.isocalendar().week instead.\n",
      "  df_train['Start_week_of_year'] = df_train['first_timestamp'].dt.week\n"
     ]
    }
   ],
   "source": [
    "df_train = pd.read_csv('../../data/prefix_data/full_prefix_train.csv', index_col=0).fillna(0)\n",
    "df_test = pd.read_csv('../../data/prefix_data/full_prefix_test.csv', index_col=0).fillna(0)\n",
    "\n",
    "df_train = feature_engineering(df_train)\n",
    "df_test = feature_engineering(df_test)\n",
    "\n",
    "\n",
    "X_train = df_train.drop(columns=['case_outcome'], inplace=False).reset_index(drop=True)\n",
    "y_train = df_train['case_outcome'].reset_index(drop=True)\n",
    "\n",
    "X_test = df_test.drop(columns=['case_outcome'], inplace=False).reset_index(drop=True)\n",
    "y_test = df_test['case_outcome'].reset_index(drop=True)"
   ]
  },
  {
   "cell_type": "code",
   "execution_count": 11,
   "metadata": {},
   "outputs": [
    {
     "data": {
      "text/plain": [
       "['Accepted', 'Selected', 'case:LoanGoal', 'case:ApplicationType']"
      ]
     },
     "execution_count": 11,
     "metadata": {},
     "output_type": "execute_result"
    }
   ],
   "source": [
    "col_dict = {}\n",
    "dtypes_list = dict(df_train.dtypes)\n",
    "for pair in dtypes_list.items():\n",
    "    key = str(pair[1])\n",
    "    col_dict[key] = col_dict.get(key, []) + [pair[0]]\n",
    "\n",
    "col_dict[\"object\"].pop()\n",
    "col_dict['object']"
   ]
  },
  {
   "cell_type": "code",
   "execution_count": 12,
   "metadata": {},
   "outputs": [],
   "source": [
    "from sklearn.pipeline import make_pipeline\n",
    "from sklearn.preprocessing import StandardScaler, OneHotEncoder\n",
    "from sklearn.compose import make_column_transformer\n",
    "from sklearn.ensemble import RandomForestClassifier\n",
    "from sklearn.linear_model import LogisticRegression, SGDClassifier\n",
    "\n",
    "from sklearn.metrics import accuracy_score\n",
    "import numpy as np"
   ]
  },
  {
   "cell_type": "code",
   "execution_count": 13,
   "metadata": {},
   "outputs": [
    {
     "data": {
      "text/plain": [
       "{'columntransformer': ColumnTransformer(remainder=Pipeline(steps=[('standardscaler',\n",
       "                                              StandardScaler())]),\n",
       "                   transformers=[('pipeline',\n",
       "                                  Pipeline(steps=[('onehotencoder',\n",
       "                                                   OneHotEncoder())]),\n",
       "                                  ['Accepted', 'Selected', 'case:LoanGoal',\n",
       "                                   'case:ApplicationType'])]),\n",
       " 'sgdclassifier': SGDClassifier(n_jobs=-1)}"
      ]
     },
     "execution_count": 13,
     "metadata": {},
     "output_type": "execute_result"
    }
   ],
   "source": [
    "categorical_pipe = make_pipeline(OneHotEncoder())\n",
    "numeric_pipe = make_pipeline(StandardScaler())\n",
    "\n",
    "# Using categorical pipe for features A,B,C, numeric pipe otherwise\n",
    "preprocessor = make_column_transformer((categorical_pipe, col_dict['object']), remainder=numeric_pipe)\n",
    "\n",
    "# Combine with learning algorithm in another pipeline\n",
    "\n",
    "pipe = make_pipeline(preprocessor, SGDClassifier(n_jobs=-1))\n",
    "# multi_class = 'ovr')\n",
    "pipe.named_steps"
   ]
  },
  {
   "cell_type": "code",
   "execution_count": 14,
   "metadata": {},
   "outputs": [
    {
     "data": {
      "text/plain": [
       "0.7740272789862489"
      ]
     },
     "execution_count": 14,
     "metadata": {},
     "output_type": "execute_result"
    }
   ],
   "source": [
    "pipe.fit(X_train.drop(columns=['case_progression']), y_train)\n",
    "y_pred = pipe.predict(X_test)\n",
    "score = accuracy_score(y_pred=y_pred, y_true=y_test)\n",
    "score"
   ]
  },
  {
   "cell_type": "code",
   "execution_count": 21,
   "metadata": {},
   "outputs": [
    {
     "name": "stdout",
     "output_type": "stream",
     "text": [
      "3.0517578125e-05\n",
      "hinge\n",
      "log_loss\n",
      "0.0001220703125\n",
      "hinge\n",
      "log_loss\n",
      "0.00048828125\n",
      "hinge\n",
      "log_loss\n",
      "0.001953125\n",
      "hinge\n",
      "log_loss\n",
      "0.0078125\n",
      "hinge\n",
      "log_loss\n",
      "0.03125\n",
      "hinge\n",
      "log_loss\n",
      "0.125\n",
      "hinge\n",
      "log_loss\n",
      "0.5\n",
      "hinge\n",
      "log_loss\n",
      "2.0\n",
      "hinge\n",
      "log_loss\n",
      "8.0\n",
      "hinge\n",
      "log_loss\n",
      "32.0\n",
      "hinge\n",
      "log_loss\n",
      "128.0\n",
      "hinge\n",
      "log_loss\n",
      "512.0\n",
      "hinge\n",
      "log_loss\n",
      "2048.0\n",
      "hinge\n",
      "log_loss\n",
      "8192.0\n",
      "hinge\n",
      "log_loss\n"
     ]
    }
   ],
   "source": [
    "alphas = 2 ** np.arange(-15.0, 15, 2)\n",
    "losses = ['hinge', 'log_loss']\n",
    "gridsearch_dict = {}\n",
    "\n",
    "for alpha in alphas:\n",
    "        print(alpha)\n",
    "        for loss in losses:\n",
    "                print(loss)\n",
    "                pipe.set_params(sgdclassifier__loss = loss, sgdclassifier__alpha = alpha)\n",
    "                pipe.fit(X_train.drop(columns=['case_progression']), y_train)\n",
    "                y_pred = pipe.predict(X_test.drop(columns=['case_progression']))\n",
    "                score = accuracy_score(y_pred=y_pred, y_true=y_test)\n",
    "                gridsearch_dict[(loss, alpha)] = score\n",
    "\n",
    "\n"
   ]
  },
  {
   "cell_type": "code",
   "execution_count": 22,
   "metadata": {},
   "outputs": [
    {
     "name": "stdout",
     "output_type": "stream",
     "text": [
      "sgdclassifier\n",
      "best parameters were  ('hinge', 0.0078125)  with an accuracy of  0.7818611488435273\n"
     ]
    }
   ],
   "source": [
    "print('sgdclassifier')\n",
    "print(\"best parameters were \" , max(gridsearch_dict, key=gridsearch_dict.get), ' with an accuracy of ', max(gridsearch_dict.values()))"
   ]
  },
  {
   "cell_type": "markdown",
   "metadata": {},
   "source": [
    "# Seeing the effect of case progression"
   ]
  },
  {
   "cell_type": "code",
   "execution_count": 23,
   "metadata": {},
   "outputs": [],
   "source": [
    "def bucketed_testing(pipe, X_train, y_train, X_test, y_test, progression):\n",
    "    X_train = X_train[X_train['case_progression'] <= progression].drop(columns=['case_progression'])\n",
    "    y_train = y_train[y_train.index.isin(X_train.index)]\n",
    "    \n",
    "    X_test = X_test[X_test['case_progression'] <= progression].drop(columns=['case_progression'])\n",
    "    y_test = y_test[y_test.index.isin(X_test.index)]\n",
    "\n",
    "\n",
    "    pipe.fit(X_train, y_train)\n",
    "\n",
    "    y_pred = pipe.predict(X_test)\n",
    "\n",
    "    score = accuracy_score(y_pred=y_pred, y_true=y_test)\n",
    "\n",
    "    return score"
   ]
  },
  {
   "cell_type": "code",
   "execution_count": 25,
   "metadata": {},
   "outputs": [],
   "source": [
    "import numpy as np\n",
    "\n",
    "pipe.set_params(sgdclassifier__loss = 'hinge', sgdclassifier__alpha = 0.0078125)\n",
    "prog = np.arange(0.0, 1, 0.05)\n",
    "\n",
    "# store the results for different min_sim\n",
    "res_prog = {}\n",
    "for n in prog:\n",
    "\n",
    "    res_prog[n] = bucketed_testing(pipe, X_train, y_train, X_test, y_test, n)\n"
   ]
  },
  {
   "cell_type": "code",
   "execution_count": 26,
   "metadata": {},
   "outputs": [
    {
     "data": {
      "text/plain": [
       "<AxesSubplot: xlabel='case_progression', ylabel='accuracy'>"
      ]
     },
     "execution_count": 26,
     "metadata": {},
     "output_type": "execute_result"
    },
    {
     "data": {
      "image/png": "[encoded data removed]",
      "text/plain": [
       "<Figure size 640x480 with 1 Axes>"
      ]
     },
     "metadata": {},
     "output_type": "display_data"
    }
   ],
   "source": [
    "import seaborn as sns\n",
    "import matplotlib.pyplot as plt\n",
    "sns.set_theme()\n",
    "\n",
    "df_progression_results = pd.DataFrame.from_dict(res_prog, orient='index').reset_index().rename(\n",
    "    columns={\"index\": \"case_progression\", 0: \"accuracy\"})\n",
    "\n",
    "sns.lineplot(\n",
    "    data=df_progression_results,\n",
    "    x=\"case_progression\", y=\"accuracy\", markers=True, dashes=False\n",
    ")"
   ]
  },
  {
   "cell_type": "code",
   "execution_count": null,
   "metadata": {},
   "outputs": [],
   "source": []
  }
 ],
 "metadata": {
  "kernelspec": {
   "display_name": "Python 3.10.8 ('RT-PM-T9gc75cv')",
   "language": "python",
   "name": "python3"
  },
  "language_info": {
   "codemirror_mode": {
    "name": "ipython",
    "version": 3
   },
   "file_extension": ".py",
   "mimetype": "text/x-python",
   "name": "python",
   "nbconvert_exporter": "python",
   "pygments_lexer": "ipython3",
   "version": "3.10.8"
  },
  "orig_nbformat": 4,
  "vscode": {
   "interpreter": {
    "hash": "c6704c5f6fbd5bde55bd38fea2be55cd8f7e1d4452f228187dcec36853dd5375"
   }
  }
 },
 "nbformat": 4,
 "nbformat_minor": 2
}
