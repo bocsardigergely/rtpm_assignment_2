{
 "cells": [
  {
   "cell_type": "code",
   "execution_count": 1,
   "metadata": {},
   "outputs": [],
   "source": [
    "import pandas as pd"
   ]
  },
  {
   "cell_type": "code",
   "execution_count": 2,
   "metadata": {},
   "outputs": [],
   "source": [
    "def feature_engineering(df_train):\n",
    "    df_train['first_timestamp'] = pd.to_datetime(df_train['first_timestamp'])\n",
    "\n",
    "    # day\n",
    "    df_train['Day'] = df_train['first_timestamp'].dt.day\n",
    "    # month\n",
    "    df_train['Month'] = df_train['first_timestamp'].dt.month\n",
    "    # hour\n",
    "    df_train['Start_hour'] = df_train['first_timestamp'].dt.hour\n",
    "    # minute\n",
    "    df_train['Start_minute'] = df_train['first_timestamp'].dt.minute\n",
    "    # second\n",
    "    df_train['Start_second'] = df_train['first_timestamp'].dt.second\n",
    "    # Monday is 0 and Sunday is 6\n",
    "    df_train['Start_weekday'] = df_train['first_timestamp'].dt.weekday\n",
    "    # week of the year\n",
    "    df_train['Start_week_of_year'] = df_train['first_timestamp'].dt.week\n",
    "\n",
    "    df_train.drop('first_timestamp', inplace=True, axis=1)\n",
    "\n",
    "    return df_train"
   ]
  },
  {
   "cell_type": "code",
   "execution_count": 66,
   "metadata": {},
   "outputs": [
    {
     "name": "stderr",
     "output_type": "stream",
     "text": [
      "/var/folders/9l/kwd1671542z9tyvsgbp6mmtr0000gn/T/ipykernel_30434/1275838501.py:17: FutureWarning: Series.dt.weekofyear and Series.dt.week have been deprecated. Please use Series.dt.isocalendar().week instead.\n",
      "  df_train['Start_week_of_year'] = df_train['first_timestamp'].dt.week\n",
      "/var/folders/9l/kwd1671542z9tyvsgbp6mmtr0000gn/T/ipykernel_30434/1275838501.py:17: FutureWarning: Series.dt.weekofyear and Series.dt.week have been deprecated. Please use Series.dt.isocalendar().week instead.\n",
      "  df_train['Start_week_of_year'] = df_train['first_timestamp'].dt.week\n"
     ]
    }
   ],
   "source": [
    "df_train = pd.read_csv('../../data/prefix_data/full_prefix_train.csv', index_col=0).fillna(0)\n",
    "df_test = pd.read_csv('../../data/prefix_data/full_prefix_test.csv', index_col=0).fillna(0)\n",
    "\n",
    "df_train = feature_engineering(df_train)\n",
    "df_test = feature_engineering(df_test)\n",
    "\n",
    "\n",
    "X_train = df_train.drop(columns=['case_outcome'], inplace=False).reset_index(drop=True)\n",
    "y_train = df_train['case_outcome'].reset_index(drop=True)\n",
    "\n",
    "X_test = df_test.drop(columns=['case_outcome'], inplace=False).reset_index(drop=True)\n",
    "y_test = df_test['case_outcome'].reset_index(drop=True)"
   ]
  },
  {
   "cell_type": "code",
   "execution_count": 67,
   "metadata": {},
   "outputs": [
    {
     "data": {
      "text/plain": [
       "['Accepted', 'Selected', 'case:LoanGoal', 'case:ApplicationType']"
      ]
     },
     "execution_count": 67,
     "metadata": {},
     "output_type": "execute_result"
    }
   ],
   "source": [
    "col_dict = {}\n",
    "dtypes_list = dict(df_train.dtypes)\n",
    "for pair in dtypes_list.items():\n",
    "    key = str(pair[1])\n",
    "    col_dict[key] = col_dict.get(key, []) + [pair[0]]\n",
    "\n",
    "col_dict[\"object\"].pop()\n",
    "col_dict['object']"
   ]
  },
  {
   "cell_type": "code",
   "execution_count": 68,
   "metadata": {},
   "outputs": [],
   "source": [
    "from sklearn.pipeline import make_pipeline\n",
    "from sklearn.preprocessing import StandardScaler, OneHotEncoder\n",
    "from sklearn.compose import make_column_transformer\n",
    "from sklearn.tree import DecisionTreeClassifier\n",
    "from sklearn.ensemble import RandomForestClassifier, GradientBoostingClassifier\n",
    "from sklearn.naive_bayes import MultinomialNB\n",
    "from sklearn.ensemble import RandomForestClassifier\n",
    "from sklearn.metrics import accuracy_score\n",
    "import numpy as np"
   ]
  },
  {
   "cell_type": "code",
   "execution_count": 75,
   "metadata": {},
   "outputs": [
    {
     "data": {
      "text/plain": [
       "{'columntransformer': ColumnTransformer(remainder='passthrough',\n",
       "                   transformers=[('pipeline',\n",
       "                                  Pipeline(steps=[('onehotencoder',\n",
       "                                                   OneHotEncoder())]),\n",
       "                                  ['Accepted', 'Selected', 'case:LoanGoal',\n",
       "                                   'case:ApplicationType'])]),\n",
       " 'randomforestclassifier': RandomForestClassifier(n_jobs=-1)}"
      ]
     },
     "execution_count": 75,
     "metadata": {},
     "output_type": "execute_result"
    }
   ],
   "source": [
    "categorical_pipe = make_pipeline(OneHotEncoder())\n",
    "\n",
    "# Using categorical pipe for features A,B,C, numeric pipe otherwise\n",
    "preprocessor = make_column_transformer((categorical_pipe, col_dict['object']), remainder='passthrough')\n",
    "\n",
    "# Combine with learning algorithm in another pipeline\n",
    "\n",
    "pipe = make_pipeline(preprocessor, RandomForestClassifier(n_jobs=-1))\n",
    "pipe.named_steps"
   ]
  },
  {
   "cell_type": "code",
   "execution_count": 76,
   "metadata": {},
   "outputs": [],
   "source": [
    "n_trees = np.arange(50, 500, 50)\n",
    "max_depth = list(np.arange(2, 20, 4))\n",
    "max_depth.append(None)\n",
    "\n",
    "gridsearch_dict = {}\n",
    "\n",
    "for n in n_trees:\n",
    "    for depth in max_depth:\n",
    "        pipe.set_params(randomforestclassifier__n_estimators = n, randomforestclassifier__max_depth = depth)\n",
    "        pipe.fit(X_train, y_train)\n",
    "        y_pred = pipe.predict(X_test)\n",
    "        score = accuracy_score(y_pred=y_pred, y_true=y_test)\n",
    "        gridsearch_dict[(n, depth)] = score\n",
    "\n",
    "\n"
   ]
  },
  {
   "cell_type": "code",
   "execution_count": 78,
   "metadata": {},
   "outputs": [
    {
     "name": "stdout",
     "output_type": "stream",
     "text": [
      "RANDOM FOREST CLASSIFIER\n",
      "best parameters were  (450, None)  with an accuracy of  0.8545058707504513\n"
     ]
    }
   ],
   "source": [
    "print('RANDOM FOREST CLASSIFIER')\n",
    "print(\"best parameters were \" , max(gridsearch_dict, key=gridsearch_dict.get), ' with an accuracy of ', max(gridsearch_dict.values()))"
   ]
  },
  {
   "cell_type": "markdown",
   "metadata": {},
   "source": [
    "# Seeing the effect of case progression"
   ]
  },
  {
   "cell_type": "code",
   "execution_count": 79,
   "metadata": {},
   "outputs": [],
   "source": [
    "def bucketed_testing(pipe, X_train, y_train, X_test, y_test, progression):\n",
    "    X_train = X_train[X_train['case_progression'] <= progression]\n",
    "    y_train = y_train[y_train.index.isin(X_train.index)]\n",
    "    \n",
    "    X_test = X_test[X_test['case_progression'] <= progression]\n",
    "    y_test = y_test[y_test.index.isin(X_test.index)]\n",
    "\n",
    "\n",
    "    pipe.fit(X_train, y_train)\n",
    "\n",
    "    y_pred = pipe.predict(X_test)\n",
    "\n",
    "    score = accuracy_score(y_pred=y_pred, y_true=y_test)\n",
    "\n",
    "    return score"
   ]
  },
  {
   "cell_type": "code",
   "execution_count": 80,
   "metadata": {},
   "outputs": [],
   "source": [
    "import numpy as np\n",
    "\n",
    "pipe.set_params(randomforestclassifier__n_estimators = 450)\n",
    "prog = np.arange(0.0, 1, 0.05)\n",
    "\n",
    "# store the results for different min_sim\n",
    "res_prog = {}\n",
    "for n in prog:\n",
    "\n",
    "    res_prog[n] = bucketed_testing(pipe, X_train, y_train, X_test, y_test, n)\n"
   ]
  },
  {
   "cell_type": "code",
   "execution_count": 82,
   "metadata": {},
   "outputs": [
    {
     "data": {
      "text/plain": [
       "<AxesSubplot: xlabel='case_progression', ylabel='accuracy'>"
      ]
     },
     "execution_count": 82,
     "metadata": {},
     "output_type": "execute_result"
    },
    {
     "data": {
      "image/png": "[encoded data removed]",
      "text/plain": [
       "<Figure size 640x480 with 1 Axes>"
      ]
     },
     "metadata": {},
     "output_type": "display_data"
    }
   ],
   "source": [
    "import seaborn as sns\n",
    "import matplotlib.pyplot as plt\n",
    "sns.set_theme()\n",
    "\n",
    "df_progression_results = pd.DataFrame.from_dict(res_prog, orient='index').reset_index().rename(\n",
    "    columns={\"index\": \"case_progression\", 0: \"accuracy\"})\n",
    "\n",
    "sns.lineplot(\n",
    "    data=df_progression_results,\n",
    "    x=\"case_progression\", y=\"accuracy\", markers=True, dashes=False\n",
    ")"
   ]
  },
  {
   "cell_type": "code",
   "execution_count": null,
   "metadata": {},
   "outputs": [],
   "source": []
  }
 ],
 "metadata": {
  "kernelspec": {
   "display_name": "Python 3.10.8 ('RT-PM-T9gc75cv')",
   "language": "python",
   "name": "python3"
  },
  "language_info": {
   "codemirror_mode": {
    "name": "ipython",
    "version": 3
   },
   "file_extension": ".py",
   "mimetype": "text/x-python",
   "name": "python",
   "nbconvert_exporter": "python",
   "pygments_lexer": "ipython3",
   "version": "3.10.8"
  },
  "orig_nbformat": 4,
  "vscode": {
   "interpreter": {
    "hash": "c6704c5f6fbd5bde55bd38fea2be55cd8f7e1d4452f228187dcec36853dd5375"
   }
  }
 },
 "nbformat": 4,
 "nbformat_minor": 2
}
